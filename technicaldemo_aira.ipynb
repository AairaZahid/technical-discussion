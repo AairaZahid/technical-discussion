{
  "nbformat": 4,
  "nbformat_minor": 0,
  "metadata": {
    "colab": {
      "name": "technicaldemo- aira.ipynb",
      "provenance": [],
      "authorship_tag": "ABX9TyO4C1bqNn+ERvT+Oy7v2Ir/",
      "include_colab_link": true
    },
    "kernelspec": {
      "name": "python3",
      "display_name": "Python 3"
    },
    "language_info": {
      "name": "python"
    }
  },
  "cells": [
    {
      "cell_type": "markdown",
      "metadata": {
        "id": "view-in-github",
        "colab_type": "text"
      },
      "source": [
        "<a href=\"https://colab.research.google.com/github/AairaZahid/technical-discussion/blob/main/technicaldemo_aira.ipynb\" target=\"_parent\"><img src=\"https://colab.research.google.com/assets/colab-badge.svg\" alt=\"Open In Colab\"/></a>"
      ]
    },
    {
      "cell_type": "code",
      "execution_count": 1,
      "metadata": {
        "id": "tD4hY2u3Xb9P"
      },
      "outputs": [],
      "source": [
        "def hello() :\n",
        "  return \"world\"\n",
        "  hello()"
      ]
    },
    {
      "cell_type": "code",
      "source": [
        ""
      ],
      "metadata": {
        "id": "CAeTITBRYVod"
      },
      "execution_count": 1,
      "outputs": []
    },
    {
      "cell_type": "markdown",
      "source": [
        "## Aira first code\n",
        " "
      ],
      "metadata": {
        "id": "pn9zQdgNYv0X"
      }
    }
  ]
}